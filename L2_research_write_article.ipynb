{
 "cells": [
  {
   "cell_type": "markdown",
   "metadata": {},
   "source": [
    "You can download the `requirements.txt` for this course from the workspace of this lab. `File --> Open...`"
   ]
  },
  {
   "cell_type": "markdown",
   "metadata": {},
   "source": [
    "# L2: Create Agents to Research and Write an Article\n",
    "\n",
    "In this lesson, you will be introduced to the foundational concepts of multi-agent systems and get an overview of the crewAI framework."
   ]
  },
  {
   "cell_type": "markdown",
   "metadata": {},
   "source": [
    "The libraries are already installed in the classroom. If you're running this notebook on your own machine, you can install the following:\n",
    "```Python\n",
    "!pip install crewai==0.28.8 crewai_tools==0.1.6 langchain_community==0.0.29\n",
    "```"
   ]
  },
  {
   "cell_type": "code",
   "execution_count": 1,
   "metadata": {
    "height": 64
   },
   "outputs": [],
   "source": [
    "# Warning control\n",
    "import warnings\n",
    "warnings.filterwarnings('ignore')"
   ]
  },
  {
   "cell_type": "markdown",
   "metadata": {},
   "source": [
    "- Import from the crewAI libray."
   ]
  },
  {
   "cell_type": "code",
   "execution_count": 2,
   "metadata": {
    "height": 30
   },
   "outputs": [],
   "source": [
    "from crewai import Agent, Task, Crew"
   ]
  },
  {
   "cell_type": "markdown",
   "metadata": {},
   "source": [
    "- As a LLM for your agents, you'll be using OpenAI's `gpt-3.5-turbo`.\n",
    "\n",
    "**Optional Note:** crewAI also allow other popular models to be used as a LLM for your Agents. You can see some of the examples at the [bottom of the notebook](#1)."
   ]
  },
  {
   "cell_type": "code",
   "execution_count": 3,
   "metadata": {
    "height": 98
   },
   "outputs": [],
   "source": [
    "import os\n",
    "from utils import get_openai_api_key\n",
    "\n",
    "openai_api_key = get_openai_api_key()\n",
    "os.environ[\"OPENAI_MODEL_NAME\"] = 'gpt-3.5-turbo'"
   ]
  },
  {
   "cell_type": "markdown",
   "metadata": {},
   "source": [
    "## Creating Agents\n",
    "\n",
    "- Define your Agents, and provide them a `role`, `goal` and `backstory`.\n",
    "- It has been seen that LLMs perform better when they are role playing."
   ]
  },
  {
   "cell_type": "markdown",
   "metadata": {},
   "source": [
    "### Agent: Planner\n",
    "\n",
    "**Note**: The benefit of using _multiple strings_ :\n",
    "```Python\n",
    "varname = \"line 1 of text\"\n",
    "          \"line 2 of text\"\n",
    "```\n",
    "\n",
    "versus the _triple quote docstring_:\n",
    "```Python\n",
    "varname = \"\"\"line 1 of text\n",
    "             line 2 of text\n",
    "          \"\"\"\n",
    "```\n",
    "is that it can avoid adding those whitespaces and newline characters, making it better formatted to be passed to the LLM."
   ]
  },
  {
   "cell_type": "code",
   "execution_count": 4,
   "metadata": {
    "height": 234
   },
   "outputs": [],
   "source": [
    "planner = Agent(\n",
    "    role=\"Content Planner\",\n",
    "    goal=\"Plan engaging and factually accurate content on {topic}\",\n",
    "    backstory=\"You're working on planning a blog article \"\n",
    "              \"about the topic: {topic}.\"\n",
    "              \"You collect information that helps the \"\n",
    "              \"audience learn something \"\n",
    "              \"and make informed decisions. \"\n",
    "              \"Your work is the basis for \"\n",
    "              \"the Content Writer to write an article on this topic.\",\n",
    "    allow_delegation=False,\n",
    "\tverbose=True\n",
    ")"
   ]
  },
  {
   "cell_type": "markdown",
   "metadata": {},
   "source": [
    "### Agent: Writer"
   ]
  },
  {
   "cell_type": "code",
   "execution_count": 5,
   "metadata": {
    "height": 370
   },
   "outputs": [],
   "source": [
    "writer = Agent(\n",
    "    role=\"Content Writer\",\n",
    "    goal=\"Write insightful and factually accurate \"\n",
    "         \"opinion piece about the topic: {topic}\",\n",
    "    backstory=\"You're working on a writing \"\n",
    "              \"a new opinion piece about the topic: {topic}. \"\n",
    "              \"You base your writing on the work of \"\n",
    "              \"the Content Planner, who provides an outline \"\n",
    "              \"and relevant context about the topic. \"\n",
    "              \"You follow the main objectives and \"\n",
    "              \"direction of the outline, \"\n",
    "              \"as provide by the Content Planner. \"\n",
    "              \"You also provide objective and impartial insights \"\n",
    "              \"and back them up with information \"\n",
    "              \"provide by the Content Planner. \"\n",
    "              \"You acknowledge in your opinion piece \"\n",
    "              \"when your statements are opinions \"\n",
    "              \"as opposed to objective statements.\",\n",
    "    allow_delegation=False,\n",
    "    verbose=True\n",
    ")"
   ]
  },
  {
   "cell_type": "markdown",
   "metadata": {},
   "source": [
    "### Agent: Editor"
   ]
  },
  {
   "cell_type": "code",
   "execution_count": 6,
   "metadata": {
    "height": 268
   },
   "outputs": [],
   "source": [
    "editor = Agent(\n",
    "    role=\"Editor\",\n",
    "    goal=\"Edit a given blog post to align with \"\n",
    "         \"the writing style of the organization. \",\n",
    "    backstory=\"You are an editor who receives a blog post \"\n",
    "              \"from the Content Writer. \"\n",
    "              \"Your goal is to review the blog post \"\n",
    "              \"to ensure that it follows journalistic best practices,\"\n",
    "              \"provides balanced viewpoints \"\n",
    "              \"when providing opinions or assertions, \"\n",
    "              \"and also avoids major controversial topics \"\n",
    "              \"or opinions when possible.\",\n",
    "    allow_delegation=False,\n",
    "    verbose=True\n",
    ")"
   ]
  },
  {
   "cell_type": "markdown",
   "metadata": {},
   "source": [
    "## Creating Tasks\n",
    "\n",
    "- Define your Tasks, and provide them a `description`, `expected_output` and `agent`."
   ]
  },
  {
   "cell_type": "markdown",
   "metadata": {},
   "source": [
    "### Task: Plan"
   ]
  },
  {
   "cell_type": "code",
   "execution_count": 7,
   "metadata": {
    "height": 268
   },
   "outputs": [],
   "source": [
    "plan = Task(\n",
    "    description=(\n",
    "        \"1. Prioritize the latest trends, key players, \"\n",
    "            \"and noteworthy news on {topic}.\\n\"\n",
    "        \"2. Identify the target audience, considering \"\n",
    "            \"their interests and pain points.\\n\"\n",
    "        \"3. Develop a detailed content outline including \"\n",
    "            \"an introduction, key points, and a call to action.\\n\"\n",
    "        \"4. Include SEO keywords and relevant data or sources.\"\n",
    "    ),\n",
    "    expected_output=\"A comprehensive content plan document \"\n",
    "        \"with an outline, audience analysis, \"\n",
    "        \"SEO keywords, and resources.\",\n",
    "    agent=planner,\n",
    ")"
   ]
  },
  {
   "cell_type": "markdown",
   "metadata": {},
   "source": [
    "### Task: Write"
   ]
  },
  {
   "cell_type": "code",
   "execution_count": 8,
   "metadata": {
    "height": 319
   },
   "outputs": [],
   "source": [
    "write = Task(\n",
    "    description=(\n",
    "        \"1. Use the content plan to craft a compelling \"\n",
    "            \"blog post on {topic}.\\n\"\n",
    "        \"2. Incorporate SEO keywords naturally.\\n\"\n",
    "\t\t\"3. Sections/Subtitles are properly named \"\n",
    "            \"in an engaging manner.\\n\"\n",
    "        \"4. Ensure the post is structured with an \"\n",
    "            \"engaging introduction, insightful body, \"\n",
    "            \"and a summarizing conclusion.\\n\"\n",
    "        \"5. Proofread for grammatical errors and \"\n",
    "            \"alignment with the brand's voice.\\n\"\n",
    "    ),\n",
    "    expected_output=\"A well-written blog post \"\n",
    "        \"in markdown format, ready for publication, \"\n",
    "        \"each section should have 2 or 3 paragraphs.\",\n",
    "    agent=writer,\n",
    ")"
   ]
  },
  {
   "cell_type": "markdown",
   "metadata": {},
   "source": [
    "### Task: Edit"
   ]
  },
  {
   "cell_type": "code",
   "execution_count": 9,
   "metadata": {
    "height": 166
   },
   "outputs": [],
   "source": [
    "edit = Task(\n",
    "    description=(\"Proofread the given blog post for \"\n",
    "                 \"grammatical errors and \"\n",
    "                 \"alignment with the brand's voice.\"),\n",
    "    expected_output=\"A well-written blog post in markdown format, \"\n",
    "                    \"ready for publication, \"\n",
    "                    \"each section should have 2 or 3 paragraphs.\",\n",
    "    agent=editor\n",
    ")"
   ]
  },
  {
   "cell_type": "markdown",
   "metadata": {},
   "source": [
    "## Creating the Crew\n",
    "\n",
    "- Create your crew of Agents\n",
    "- Pass the tasks to be performed by those agents.\n",
    "    - **Note**: *For this simple example*, the tasks will be performed sequentially (i.e they are dependent on each other), so the _order_ of the task in the list _matters_.\n",
    "- `verbose=2` allows you to see all the logs of the execution. "
   ]
  },
  {
   "cell_type": "code",
   "execution_count": 10,
   "metadata": {
    "height": 98
   },
   "outputs": [],
   "source": [
    "crew = Crew(\n",
    "    agents=[planner, writer, editor],\n",
    "    tasks=[plan, write, edit],\n",
    "    verbose=2\n",
    ")"
   ]
  },
  {
   "cell_type": "markdown",
   "metadata": {},
   "source": [
    "## Running the Crew"
   ]
  },
  {
   "cell_type": "markdown",
   "metadata": {},
   "source": [
    "**Note**: LLMs can provide different outputs for they same input, so what you get might be different than what you see in the video."
   ]
  },
  {
   "cell_type": "code",
   "execution_count": 11,
   "metadata": {
    "height": 30
   },
   "outputs": [
    {
     "name": "stdout",
     "output_type": "stream",
     "text": [
      "\u001b[1m\u001b[95m [DEBUG]: == Working Agent: Content Planner\u001b[00m\n",
      "\u001b[1m\u001b[95m [INFO]: == Starting Task: 1. Prioritize the latest trends, key players, and noteworthy news on Artificial Intelligence.\n",
      "2. Identify the target audience, considering their interests and pain points.\n",
      "3. Develop a detailed content outline including an introduction, key points, and a call to action.\n",
      "4. Include SEO keywords and relevant data or sources.\u001b[00m\n",
      "\n",
      "\n",
      "\u001b[1m> Entering new CrewAgentExecutor chain...\u001b[0m\n",
      "\u001b[32;1m\u001b[1;3mI now can give a great answer\n",
      "\n",
      "Final Answer: \n",
      "\n",
      "Content Plan Document:\n",
      "\n",
      "Topic: Artificial Intelligence\n",
      "\n",
      "Outline:\n",
      "I. Introduction\n",
      "- Definition of Artificial Intelligence\n",
      "- Importance of AI in today's world\n",
      "II. Latest Trends in Artificial Intelligence\n",
      "- Machine learning advancements\n",
      "- Natural language processing developments\n",
      "- AI in healthcare\n",
      "III. Key Players in the Artificial Intelligence Industry\n",
      "- Google\n",
      "- Amazon\n",
      "- IBM\n",
      "- Microsoft\n",
      "IV. Noteworthy News in Artificial Intelligence\n",
      "- Recent breakthroughs in AI research\n",
      "- AI applications in various industries\n",
      "V. Target Audience Analysis\n",
      "- Tech enthusiasts\n",
      "- Business professionals looking to implement AI solutions\n",
      "- Students studying AI or related fields\n",
      "- Individuals curious about the impact of AI on society\n",
      "VI. SEO Keywords\n",
      "- Artificial Intelligence trends\n",
      "- Key players in AI industry\n",
      "- Latest news on Artificial Intelligence\n",
      "VII. Call to Action\n",
      "- Encourage readers to stay informed about AI developments\n",
      "- Prompt readers to explore AI resources and courses\n",
      "VIII. Resources\n",
      "- Links to AI research papers\n",
      "- AI news websites\n",
      "- Online AI courses and certifications\n",
      "\n",
      "Overall, this content plan aims to provide valuable information on the latest trends, key players, and noteworthy news in the field of Artificial Intelligence. By targeting a diverse audience and incorporating relevant SEO keywords, the blog article will be informative and engaging for readers interested in AI.\u001b[0m\n",
      "\n",
      "\u001b[1m> Finished chain.\u001b[0m\n",
      "\u001b[1m\u001b[92m [DEBUG]: == [Content Planner] Task output: Content Plan Document:\n",
      "\n",
      "Topic: Artificial Intelligence\n",
      "\n",
      "Outline:\n",
      "I. Introduction\n",
      "- Definition of Artificial Intelligence\n",
      "- Importance of AI in today's world\n",
      "II. Latest Trends in Artificial Intelligence\n",
      "- Machine learning advancements\n",
      "- Natural language processing developments\n",
      "- AI in healthcare\n",
      "III. Key Players in the Artificial Intelligence Industry\n",
      "- Google\n",
      "- Amazon\n",
      "- IBM\n",
      "- Microsoft\n",
      "IV. Noteworthy News in Artificial Intelligence\n",
      "- Recent breakthroughs in AI research\n",
      "- AI applications in various industries\n",
      "V. Target Audience Analysis\n",
      "- Tech enthusiasts\n",
      "- Business professionals looking to implement AI solutions\n",
      "- Students studying AI or related fields\n",
      "- Individuals curious about the impact of AI on society\n",
      "VI. SEO Keywords\n",
      "- Artificial Intelligence trends\n",
      "- Key players in AI industry\n",
      "- Latest news on Artificial Intelligence\n",
      "VII. Call to Action\n",
      "- Encourage readers to stay informed about AI developments\n",
      "- Prompt readers to explore AI resources and courses\n",
      "VIII. Resources\n",
      "- Links to AI research papers\n",
      "- AI news websites\n",
      "- Online AI courses and certifications\n",
      "\n",
      "Overall, this content plan aims to provide valuable information on the latest trends, key players, and noteworthy news in the field of Artificial Intelligence. By targeting a diverse audience and incorporating relevant SEO keywords, the blog article will be informative and engaging for readers interested in AI.\n",
      "\n",
      "\u001b[00m\n",
      "\u001b[1m\u001b[95m [DEBUG]: == Working Agent: Content Writer\u001b[00m\n",
      "\u001b[1m\u001b[95m [INFO]: == Starting Task: 1. Use the content plan to craft a compelling blog post on Artificial Intelligence.\n",
      "2. Incorporate SEO keywords naturally.\n",
      "3. Sections/Subtitles are properly named in an engaging manner.\n",
      "4. Ensure the post is structured with an engaging introduction, insightful body, and a summarizing conclusion.\n",
      "5. Proofread for grammatical errors and alignment with the brand's voice.\n",
      "\u001b[00m\n",
      "\n",
      "\n",
      "\u001b[1m> Entering new CrewAgentExecutor chain...\u001b[0m\n",
      "\u001b[32;1m\u001b[1;3mI now can give a great answer\n",
      "\n",
      "Final Answer:\n",
      "\n",
      "# The Rise of Artificial Intelligence: A Look Into the Future\n",
      "\n",
      "## Introduction\n",
      "\n",
      "Artificial Intelligence (AI) has become an integral part of our modern world, revolutionizing industries and driving innovation at an unprecedented pace. Defined as the simulation of human intelligence processes by machines, AI has opened up a realm of possibilities that were once thought to be purely science fiction. From self-driving cars to personalized recommendations on streaming platforms, AI is reshaping the way we live, work, and interact with technology.\n",
      "\n",
      "The importance of AI in today's world cannot be overstated. With advancements in machine learning, natural language processing, and robotics, AI has the potential to automate tedious tasks, improve decision-making processes, and enhance overall efficiency. As we delve deeper into the realm of AI, it is crucial to explore the latest trends, key players in the industry, and the impact of AI on various sectors.\n",
      "\n",
      "## Latest Trends in Artificial Intelligence\n",
      "\n",
      "In recent years, AI has seen significant advancements in machine learning, particularly in the areas of deep learning and neural networks. These technologies have enabled computers to analyze vast amounts of data, recognize patterns, and make predictions with a high degree of accuracy. Moreover, natural language processing has seen remarkable developments, allowing machines to understand and generate human language in a way that was previously thought impossible.\n",
      "\n",
      "AI's impact on healthcare has been particularly noteworthy, with applications ranging from diagnostic imaging to personalized medicine. By harnessing the power of AI, healthcare professionals can make more informed decisions, leading to improved patient outcomes and reduced costs. As AI continues to evolve, we can expect to see even more groundbreaking developments in the healthcare industry and beyond.\n",
      "\n",
      "## Key Players in the Artificial Intelligence Industry\n",
      "\n",
      "Some of the key players in the AI industry include tech giants like Google, Amazon, IBM, and Microsoft. These companies have invested heavily in AI research and development, leading to the creation of innovative products and services that have transformed the way we interact with technology. From virtual assistants to predictive analytics, these companies are at the forefront of the AI revolution, driving progress and shaping the future of AI.\n",
      "\n",
      "## Noteworthy News in Artificial Intelligence\n",
      "\n",
      "Recent breakthroughs in AI research have captured the attention of the global community, with advancements in areas such as computer vision, robotics, and reinforcement learning. These breakthroughs have paved the way for new applications of AI in various industries, from autonomous vehicles to personalized marketing strategies. As AI continues to push the boundaries of what is possible, we can expect to see even more exciting developments in the coming years.\n",
      "\n",
      "In conclusion, Artificial Intelligence is a dynamic and rapidly evolving field that holds immense promise for the future. By staying informed about the latest trends, key players, and noteworthy news in the AI industry, we can better understand the impact of AI on society and harness its potential for positive change. As we navigate this exciting journey into the future, let us embrace the possibilities that AI presents and continue to explore the endless opportunities that lie ahead.\u001b[0m\n",
      "\n",
      "\u001b[1m> Finished chain.\u001b[0m\n",
      "\u001b[1m\u001b[92m [DEBUG]: == [Content Writer] Task output: # The Rise of Artificial Intelligence: A Look Into the Future\n",
      "\n",
      "## Introduction\n",
      "\n",
      "Artificial Intelligence (AI) has become an integral part of our modern world, revolutionizing industries and driving innovation at an unprecedented pace. Defined as the simulation of human intelligence processes by machines, AI has opened up a realm of possibilities that were once thought to be purely science fiction. From self-driving cars to personalized recommendations on streaming platforms, AI is reshaping the way we live, work, and interact with technology.\n",
      "\n",
      "The importance of AI in today's world cannot be overstated. With advancements in machine learning, natural language processing, and robotics, AI has the potential to automate tedious tasks, improve decision-making processes, and enhance overall efficiency. As we delve deeper into the realm of AI, it is crucial to explore the latest trends, key players in the industry, and the impact of AI on various sectors.\n",
      "\n",
      "## Latest Trends in Artificial Intelligence\n",
      "\n",
      "In recent years, AI has seen significant advancements in machine learning, particularly in the areas of deep learning and neural networks. These technologies have enabled computers to analyze vast amounts of data, recognize patterns, and make predictions with a high degree of accuracy. Moreover, natural language processing has seen remarkable developments, allowing machines to understand and generate human language in a way that was previously thought impossible.\n",
      "\n",
      "AI's impact on healthcare has been particularly noteworthy, with applications ranging from diagnostic imaging to personalized medicine. By harnessing the power of AI, healthcare professionals can make more informed decisions, leading to improved patient outcomes and reduced costs. As AI continues to evolve, we can expect to see even more groundbreaking developments in the healthcare industry and beyond.\n",
      "\n",
      "## Key Players in the Artificial Intelligence Industry\n",
      "\n",
      "Some of the key players in the AI industry include tech giants like Google, Amazon, IBM, and Microsoft. These companies have invested heavily in AI research and development, leading to the creation of innovative products and services that have transformed the way we interact with technology. From virtual assistants to predictive analytics, these companies are at the forefront of the AI revolution, driving progress and shaping the future of AI.\n",
      "\n",
      "## Noteworthy News in Artificial Intelligence\n",
      "\n",
      "Recent breakthroughs in AI research have captured the attention of the global community, with advancements in areas such as computer vision, robotics, and reinforcement learning. These breakthroughs have paved the way for new applications of AI in various industries, from autonomous vehicles to personalized marketing strategies. As AI continues to push the boundaries of what is possible, we can expect to see even more exciting developments in the coming years.\n",
      "\n",
      "In conclusion, Artificial Intelligence is a dynamic and rapidly evolving field that holds immense promise for the future. By staying informed about the latest trends, key players, and noteworthy news in the AI industry, we can better understand the impact of AI on society and harness its potential for positive change. As we navigate this exciting journey into the future, let us embrace the possibilities that AI presents and continue to explore the endless opportunities that lie ahead.\n",
      "\n",
      "\u001b[00m\n",
      "\u001b[1m\u001b[95m [DEBUG]: == Working Agent: Editor\u001b[00m\n",
      "\u001b[1m\u001b[95m [INFO]: == Starting Task: Proofread the given blog post for grammatical errors and alignment with the brand's voice.\u001b[00m\n",
      "\n",
      "\n",
      "\u001b[1m> Entering new CrewAgentExecutor chain...\u001b[0m\n"
     ]
    },
    {
     "name": "stdout",
     "output_type": "stream",
     "text": [
      "\u001b[32;1m\u001b[1;3mI now can give a great answer\n",
      "\n",
      "Final Answer:\n",
      "# The Rise of Artificial Intelligence: A Look Into the Future\n",
      "\n",
      "## Introduction\n",
      "\n",
      "Artificial Intelligence (AI) has become an integral part of our modern world, revolutionizing industries and driving innovation at an unprecedented pace. Defined as the simulation of human intelligence processes by machines, AI has opened up a realm of possibilities that were once thought to be purely science fiction. From self-driving cars to personalized recommendations on streaming platforms, AI is reshaping the way we live, work, and interact with technology.\n",
      "\n",
      "The importance of AI in today's world cannot be overstated. With advancements in machine learning, natural language processing, and robotics, AI has the potential to automate tedious tasks, improve decision-making processes, and enhance overall efficiency. As we delve deeper into the realm of AI, it is crucial to explore the latest trends, key players in the industry, and the impact of AI on various sectors.\n",
      "\n",
      "## Latest Trends in Artificial Intelligence\n",
      "\n",
      "In recent years, AI has seen significant advancements in machine learning, particularly in the areas of deep learning and neural networks. These technologies have enabled computers to analyze vast amounts of data, recognize patterns, and make predictions with a high degree of accuracy. Moreover, natural language processing has seen remarkable developments, allowing machines to understand and generate human language in a way that was previously thought impossible.\n",
      "\n",
      "AI's impact on healthcare has been particularly noteworthy, with applications ranging from diagnostic imaging to personalized medicine. By harnessing the power of AI, healthcare professionals can make more informed decisions, leading to improved patient outcomes and reduced costs. As AI continues to evolve, we can expect to see even more groundbreaking developments in the healthcare industry and beyond.\n",
      "\n",
      "## Key Players in the Artificial Intelligence Industry\n",
      "\n",
      "Some of the key players in the AI industry include tech giants like Google, Amazon, IBM, and Microsoft. These companies have invested heavily in AI research and development, leading to the creation of innovative products and services that have transformed the way we interact with technology. From virtual assistants to predictive analytics, these companies are at the forefront of the AI revolution, driving progress and shaping the future of AI.\n",
      "\n",
      "## Noteworthy News in Artificial Intelligence\n",
      "\n",
      "Recent breakthroughs in AI research have captured the attention of the global community, with advancements in areas such as computer vision, robotics, and reinforcement learning. These breakthroughs have paved the way for new applications of AI in various industries, from autonomous vehicles to personalized marketing strategies. As AI continues to push the boundaries of what is possible, we can expect to see even more exciting developments in the coming years.\n",
      "\n",
      "In conclusion, Artificial Intelligence is a dynamic and rapidly evolving field that holds immense promise for the future. By staying informed about the latest trends, key players, and noteworthy news in the AI industry, we can better understand the impact of AI on society and harness its potential for positive change. As we navigate this exciting journey into the future, let us embrace the possibilities that AI presents and continue to explore the endless opportunities that lie ahead.\u001b[0m\n",
      "\n",
      "\u001b[1m> Finished chain.\u001b[0m\n",
      "\u001b[1m\u001b[92m [DEBUG]: == [Editor] Task output: # The Rise of Artificial Intelligence: A Look Into the Future\n",
      "\n",
      "## Introduction\n",
      "\n",
      "Artificial Intelligence (AI) has become an integral part of our modern world, revolutionizing industries and driving innovation at an unprecedented pace. Defined as the simulation of human intelligence processes by machines, AI has opened up a realm of possibilities that were once thought to be purely science fiction. From self-driving cars to personalized recommendations on streaming platforms, AI is reshaping the way we live, work, and interact with technology.\n",
      "\n",
      "The importance of AI in today's world cannot be overstated. With advancements in machine learning, natural language processing, and robotics, AI has the potential to automate tedious tasks, improve decision-making processes, and enhance overall efficiency. As we delve deeper into the realm of AI, it is crucial to explore the latest trends, key players in the industry, and the impact of AI on various sectors.\n",
      "\n",
      "## Latest Trends in Artificial Intelligence\n",
      "\n",
      "In recent years, AI has seen significant advancements in machine learning, particularly in the areas of deep learning and neural networks. These technologies have enabled computers to analyze vast amounts of data, recognize patterns, and make predictions with a high degree of accuracy. Moreover, natural language processing has seen remarkable developments, allowing machines to understand and generate human language in a way that was previously thought impossible.\n",
      "\n",
      "AI's impact on healthcare has been particularly noteworthy, with applications ranging from diagnostic imaging to personalized medicine. By harnessing the power of AI, healthcare professionals can make more informed decisions, leading to improved patient outcomes and reduced costs. As AI continues to evolve, we can expect to see even more groundbreaking developments in the healthcare industry and beyond.\n",
      "\n",
      "## Key Players in the Artificial Intelligence Industry\n",
      "\n",
      "Some of the key players in the AI industry include tech giants like Google, Amazon, IBM, and Microsoft. These companies have invested heavily in AI research and development, leading to the creation of innovative products and services that have transformed the way we interact with technology. From virtual assistants to predictive analytics, these companies are at the forefront of the AI revolution, driving progress and shaping the future of AI.\n",
      "\n",
      "## Noteworthy News in Artificial Intelligence\n",
      "\n",
      "Recent breakthroughs in AI research have captured the attention of the global community, with advancements in areas such as computer vision, robotics, and reinforcement learning. These breakthroughs have paved the way for new applications of AI in various industries, from autonomous vehicles to personalized marketing strategies. As AI continues to push the boundaries of what is possible, we can expect to see even more exciting developments in the coming years.\n",
      "\n",
      "In conclusion, Artificial Intelligence is a dynamic and rapidly evolving field that holds immense promise for the future. By staying informed about the latest trends, key players, and noteworthy news in the AI industry, we can better understand the impact of AI on society and harness its potential for positive change. As we navigate this exciting journey into the future, let us embrace the possibilities that AI presents and continue to explore the endless opportunities that lie ahead.\n",
      "\n",
      "\u001b[00m\n"
     ]
    }
   ],
   "source": [
    "result = crew.kickoff(inputs={\"topic\": \"Artificial Intelligence\"})"
   ]
  },
  {
   "cell_type": "markdown",
   "metadata": {},
   "source": [
    "- Display the results of your execution as markdown in the notebook."
   ]
  },
  {
   "cell_type": "code",
   "execution_count": null,
   "metadata": {
    "height": 47
   },
   "outputs": [],
   "source": [
    "from IPython.display import Markdown\n",
    "Markdown(result)"
   ]
  },
  {
   "cell_type": "markdown",
   "metadata": {},
   "source": [
    "## Try it Yourself\n",
    "\n",
    "- Pass in a topic of your choice and see what the agents come up with!"
   ]
  },
  {
   "cell_type": "code",
   "execution_count": null,
   "metadata": {
    "height": 47
   },
   "outputs": [],
   "source": [
    "topic = \"YOUR TOPIC HERE\"\n",
    "result = crew.kickoff(inputs={\"topic\": topic})"
   ]
  },
  {
   "cell_type": "code",
   "execution_count": null,
   "metadata": {
    "height": 30
   },
   "outputs": [],
   "source": [
    "Markdown(result)"
   ]
  },
  {
   "cell_type": "markdown",
   "metadata": {},
   "source": [
    "<a name='1'></a>\n",
    " ## Other Popular Models as LLM for your Agents"
   ]
  },
  {
   "cell_type": "markdown",
   "metadata": {},
   "source": [
    "#### Hugging Face (HuggingFaceHub endpoint)\n",
    "\n",
    "```Python\n",
    "from langchain_community.llms import HuggingFaceHub\n",
    "\n",
    "llm = HuggingFaceHub(\n",
    "    repo_id=\"HuggingFaceH4/zephyr-7b-beta\",\n",
    "    huggingfacehub_api_token=\"<HF_TOKEN_HERE>\",\n",
    "    task=\"text-generation\",\n",
    ")\n",
    "\n",
    "### you will pass \"llm\" to your agent function\n",
    "```"
   ]
  },
  {
   "cell_type": "markdown",
   "metadata": {},
   "source": [
    "#### Mistral API\n",
    "\n",
    "```Python\n",
    "OPENAI_API_KEY=your-mistral-api-key\n",
    "OPENAI_API_BASE=https://api.mistral.ai/v1\n",
    "OPENAI_MODEL_NAME=\"mistral-small\"\n",
    "```"
   ]
  },
  {
   "cell_type": "markdown",
   "metadata": {},
   "source": [
    "#### Cohere\n",
    "\n",
    "```Python\n",
    "from langchain_community.chat_models import ChatCohere\n",
    "# Initialize language model\n",
    "os.environ[\"COHERE_API_KEY\"] = \"your-cohere-api-key\"\n",
    "llm = ChatCohere()\n",
    "\n",
    "### you will pass \"llm\" to your agent function\n",
    "```"
   ]
  },
  {
   "cell_type": "markdown",
   "metadata": {},
   "source": [
    "### For using Llama locally with Ollama and more, checkout the crewAI documentation on [Connecting to any LLM](https://docs.crewai.com/how-to/LLM-Connections/)."
   ]
  },
  {
   "cell_type": "code",
   "execution_count": null,
   "metadata": {
    "height": 30
   },
   "outputs": [],
   "source": []
  },
  {
   "cell_type": "code",
   "execution_count": null,
   "metadata": {
    "height": 30
   },
   "outputs": [],
   "source": []
  },
  {
   "cell_type": "code",
   "execution_count": null,
   "metadata": {
    "height": 30
   },
   "outputs": [],
   "source": []
  }
 ],
 "metadata": {
  "colab": {
   "gpuType": "T4",
   "provenance": []
  },
  "kernelspec": {
   "display_name": "Python 3 (ipykernel)",
   "language": "python",
   "name": "python3"
  },
  "language_info": {
   "codemirror_mode": {
    "name": "ipython",
    "version": 3
   },
   "file_extension": ".py",
   "mimetype": "text/x-python",
   "name": "python",
   "nbconvert_exporter": "python",
   "pygments_lexer": "ipython3",
   "version": "3.11.9"
  }
 },
 "nbformat": 4,
 "nbformat_minor": 4
}
